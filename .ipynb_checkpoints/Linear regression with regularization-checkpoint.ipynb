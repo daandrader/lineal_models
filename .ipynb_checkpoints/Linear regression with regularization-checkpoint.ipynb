{
 "cells": [
  {
   "cell_type": "markdown",
   "id": "c574488d",
   "metadata": {},
   "source": [
    "# Lineal regression using regularization. Lasso and Ridge regression"
   ]
  },
  {
   "cell_type": "markdown",
   "id": "2ab3b297",
   "metadata": {},
   "source": [
    "The regularization process allows to control the size of the coeficients in the regression. This is important to avoid overfiting and also allows to control variables that may have multicolinellity among other characteristics. For the current analysis the California Housing Dataset (CHD) is used, this dataset contains information about:\n",
    "\n",
    "- **MedInc**: median income in block group\n",
    "- **HouseAge**: median house age in block group\n",
    "- **AveRooms**: average number of rooms per household\n",
    "- **AveBedrms**: average number of bedrooms per household\n",
    "- **Population**: block group population\n",
    "- **AveOccup**: average number of household members\n",
    "- **Latitude**: block group latitude\n",
    "- **Longitude**: block group longitude"
   ]
  },
  {
   "cell_type": "code",
   "execution_count": 1,
   "id": "c23143ac",
   "metadata": {},
   "outputs": [],
   "source": [
    "# importing necessary libraries\n",
    "import pandas as pd\n",
    "import matplotlib.pyplot as plt\n",
    "import seaborn as sns\n",
    "from sklearn.linear_model import LinearRegression, Lasso, Ridge\n",
    "import sklearn.datasets as datasets\n",
    "from sklearn.preprocessing import StandardScaler\n",
    "from sklearn.model_selection import train_test_split\n",
    "import statsmodels.api as sm"
   ]
  },
  {
   "cell_type": "code",
   "execution_count": 2,
   "id": "5571efe3",
   "metadata": {},
   "outputs": [],
   "source": [
    "#importing the California Housinf Dataset as a dataframe\n",
    "houses = datasets.fetch_california_housing(as_frame=True)\n",
    "X = houses.data\n",
    "y = houses.target"
   ]
  },
  {
   "cell_type": "code",
   "execution_count": 3,
   "id": "bc0f1f8d",
   "metadata": {
    "scrolled": true
   },
   "outputs": [
    {
     "data": {
      "text/plain": [
       "MedInc        0\n",
       "HouseAge      0\n",
       "AveRooms      0\n",
       "AveBedrms     0\n",
       "Population    0\n",
       "AveOccup      0\n",
       "Latitude      0\n",
       "Longitude     0\n",
       "dtype: int64"
      ]
     },
     "execution_count": 3,
     "metadata": {},
     "output_type": "execute_result"
    }
   ],
   "source": [
    "# cheking null elements in the dataset\n",
    "X.isnull().sum()"
   ]
  },
  {
   "cell_type": "code",
   "execution_count": 4,
   "id": "5d64f854",
   "metadata": {},
   "outputs": [],
   "source": [
    "# removing latitude and longitude from the feature variables since contains geographic information\n",
    "# and it is not revelant in current analysis\n",
    "X = X.drop(columns=['Latitude', 'Longitude'], axis=1)"
   ]
  },
  {
   "cell_type": "code",
   "execution_count": 5,
   "id": "17f5f619",
   "metadata": {},
   "outputs": [],
   "source": [
    "# detecting high correlation among feature variables"
   ]
  },
  {
   "cell_type": "code",
   "execution_count": 6,
   "id": "db3e4b68",
   "metadata": {},
   "outputs": [
    {
     "data": {
      "text/plain": [
       "<AxesSubplot:>"
      ]
     },
     "execution_count": 6,
     "metadata": {},
     "output_type": "execute_result"
    },
    {
     "data": {
      "image/png": "[encoded data removed]",
      "text/plain": [
       "<Figure size 432x288 with 2 Axes>"
      ]
     },
     "metadata": {
      "needs_background": "light"
     },
     "output_type": "display_data"
    }
   ],
   "source": [
    "sns.heatmap(X.corr())"
   ]
  },
  {
   "cell_type": "code",
   "execution_count": 7,
   "id": "1a0eb342",
   "metadata": {},
   "outputs": [
    {
     "data": {
      "text/html": [
       "<div>\n",
       "<style scoped>\n",
       "    .dataframe tbody tr th:only-of-type {\n",
       "        vertical-align: middle;\n",
       "    }\n",
       "\n",
       "    .dataframe tbody tr th {\n",
       "        vertical-align: top;\n",
       "    }\n",
       "\n",
       "    .dataframe thead th {\n",
       "        text-align: right;\n",
       "    }\n",
       "</style>\n",
       "<table border=\"1\" class=\"dataframe\">\n",
       "  <thead>\n",
       "    <tr style=\"text-align: right;\">\n",
       "      <th></th>\n",
       "      <th>feature</th>\n",
       "      <th>VIF</th>\n",
       "    </tr>\n",
       "  </thead>\n",
       "  <tbody>\n",
       "    <tr>\n",
       "      <th>0</th>\n",
       "      <td>MedInc</td>\n",
       "      <td>7.766787</td>\n",
       "    </tr>\n",
       "    <tr>\n",
       "      <th>1</th>\n",
       "      <td>HouseAge</td>\n",
       "      <td>4.309941</td>\n",
       "    </tr>\n",
       "    <tr>\n",
       "      <th>2</th>\n",
       "      <td>AveRooms</td>\n",
       "      <td>41.111592</td>\n",
       "    </tr>\n",
       "    <tr>\n",
       "      <th>3</th>\n",
       "      <td>AveBedrms</td>\n",
       "      <td>34.118257</td>\n",
       "    </tr>\n",
       "    <tr>\n",
       "      <th>4</th>\n",
       "      <td>Population</td>\n",
       "      <td>2.322315</td>\n",
       "    </tr>\n",
       "    <tr>\n",
       "      <th>5</th>\n",
       "      <td>AveOccup</td>\n",
       "      <td>1.094793</td>\n",
       "    </tr>\n",
       "  </tbody>\n",
       "</table>\n",
       "</div>"
      ],
      "text/plain": [
       "      feature        VIF\n",
       "0      MedInc   7.766787\n",
       "1    HouseAge   4.309941\n",
       "2    AveRooms  41.111592\n",
       "3   AveBedrms  34.118257\n",
       "4  Population   2.322315\n",
       "5    AveOccup   1.094793"
      ]
     },
     "execution_count": 7,
     "metadata": {},
     "output_type": "execute_result"
    }
   ],
   "source": [
    "# Detecting multicollineality through the VIF (Variance Inflation Factor)\n",
    "from statsmodels.stats.outliers_influence import variance_inflation_factor\n",
    "vif = pd.DataFrame()\n",
    "vif['feature'] = X.columns\n",
    "vif['VIF'] = [variance_inflation_factor(X.values,i) for i in range(len(X.columns))]\n",
    "vif"
   ]
  },
  {
   "cell_type": "markdown",
   "id": "09f03bd4",
   "metadata": {},
   "source": [
    "The feature decribing Average Rooms and Averge Bedrooms presents a high correlation value, this is also confirmed using the VIF indicator"
   ]
  },
  {
   "cell_type": "code",
   "execution_count": 8,
   "id": "8864e576",
   "metadata": {},
   "outputs": [],
   "source": [
    "# Standarizing the feature values\n",
    "scaler = StandardScaler()"
   ]
  },
  {
   "cell_type": "code",
   "execution_count": 9,
   "id": "536c09af",
   "metadata": {},
   "outputs": [],
   "source": [
    "X =  pd.DataFrame(scaler.fit_transform(X), columns=X.columns )"
   ]
  },
  {
   "cell_type": "code",
   "execution_count": 10,
   "id": "98539e84",
   "metadata": {},
   "outputs": [],
   "source": [
    "# Creating training and test datasets\n",
    "X_train, X_test, y_train, y_test = train_test_split(X,y,test_size=0.3, random_state=123)"
   ]
  },
  {
   "cell_type": "markdown",
   "id": "6312a579",
   "metadata": {},
   "source": [
    "## Ridge Regression - L2 regularization"
   ]
  },
  {
   "cell_type": "markdown",
   "id": "91d31205",
   "metadata": {},
   "source": [
    "The loss function is given by:\n",
    "$$J(\\theta) = \\sum_{i=1}^m (\\hat{y}_i - y_i)^2  + \\lambda \\sum_j^p \\theta_j^2$$\n",
    "Ridge regression puts constraint on the coefficients ($\\theta$). The penalty term ($\\lambda$) regularizes the coefficients such that if the coefficients take large values the optimization function is penalized. So, ridge regression shrinks the coefficients and it helps to reduce the model complexity and multi-collinearity. If $\\lambda \\to 0$ then the loss function of the lineal regresion is obtained."
   ]
  },
  {
   "cell_type": "markdown",
   "id": "8a8b3518",
   "metadata": {},
   "source": [
    "### Using grid search"
   ]
  },
  {
   "cell_type": "code",
   "execution_count": 37,
   "id": "b5fb8331",
   "metadata": {},
   "outputs": [],
   "source": [
    "# gridsearch to find the best parameters for the regressor\n",
    "from sklearn.model_selection import GridSearchCV"
   ]
  },
  {
   "cell_type": "code",
   "execution_count": 38,
   "id": "ca74dd61",
   "metadata": {},
   "outputs": [],
   "source": [
    "#definimg the regressor\n",
    "ridge_r =Ridge()"
   ]
  },
  {
   "cell_type": "code",
   "execution_count": 39,
   "id": "fa1f4592",
   "metadata": {},
   "outputs": [],
   "source": [
    "parameters = {'alpha': [20,15,10, 0.001, 0.01, 0.1, 0.5, 0.9, 1], 'fit_intercept':[False, True]}"
   ]
  },
  {
   "cell_type": "code",
   "execution_count": 40,
   "id": "fd34f9f5",
   "metadata": {},
   "outputs": [],
   "source": [
    "clf=GridSearchCV(ridge_r, parameters)"
   ]
  },
  {
   "cell_type": "code",
   "execution_count": 41,
   "id": "d0fbb483",
   "metadata": {},
   "outputs": [
    {
     "data": {
      "text/plain": [
       "GridSearchCV(estimator=Ridge(),\n",
       "             param_grid={'alpha': [20, 15, 10, 0.001, 0.01, 0.1, 0.5, 0.9, 1],\n",
       "                         'fit_intercept': [False, True]})"
      ]
     },
     "execution_count": 41,
     "metadata": {},
     "output_type": "execute_result"
    }
   ],
   "source": [
    "clf.fit(X_train, y_train)"
   ]
  },
  {
   "cell_type": "code",
   "execution_count": 42,
   "id": "30ca586d",
   "metadata": {},
   "outputs": [
    {
     "data": {
      "text/plain": [
       "{'alpha': 20, 'fit_intercept': True}"
      ]
     },
     "execution_count": 42,
     "metadata": {},
     "output_type": "execute_result"
    }
   ],
   "source": [
    "clf.best_params_"
   ]
  },
  {
   "cell_type": "code",
   "execution_count": 43,
   "id": "45e5fbcf",
   "metadata": {},
   "outputs": [
    {
     "data": {
      "text/plain": [
       "Ridge(alpha=20)"
      ]
     },
     "execution_count": 43,
     "metadata": {},
     "output_type": "execute_result"
    }
   ],
   "source": [
    "ridge_r =Ridge(alpha=20, fit_intercept=True)\n",
    "ridge_r.fit(X_train, y_train)"
   ]
  },
  {
   "cell_type": "code",
   "execution_count": 44,
   "id": "87a7b463",
   "metadata": {},
   "outputs": [],
   "source": [
    "y_pred = ridge_r.predict(X_test)"
   ]
  },
  {
   "cell_type": "code",
   "execution_count": 20,
   "id": "a1d7e837",
   "metadata": {},
   "outputs": [
    {
     "data": {
      "text/plain": [
       "array([ 1.01353564,  0.2060721 , -0.50495637,  0.4463172 ,  0.0258014 ,\n",
       "       -0.0458114 ])"
      ]
     },
     "execution_count": 20,
     "metadata": {},
     "output_type": "execute_result"
    }
   ],
   "source": [
    "ridge_r.coef_"
   ]
  },
  {
   "cell_type": "code",
   "execution_count": 45,
   "id": "98a637f7",
   "metadata": {},
   "outputs": [],
   "source": [
    "from sklearn.metrics import r2_score, mean_squared_error, mean_absolute_error\n",
    "from scipy.stats import jarque_bera"
   ]
  },
  {
   "cell_type": "code",
   "execution_count": 46,
   "id": "6b67612b",
   "metadata": {},
   "outputs": [
    {
     "data": {
      "text/plain": [
       "0.5424897598137579"
      ]
     },
     "execution_count": 46,
     "metadata": {},
     "output_type": "execute_result"
    }
   ],
   "source": [
    "r2_score(y_test, y_pred)"
   ]
  },
  {
   "cell_type": "code",
   "execution_count": 47,
   "id": "f135d1f5",
   "metadata": {},
   "outputs": [
    {
     "data": {
      "text/plain": [
       "0.5424897598137579"
      ]
     },
     "execution_count": 47,
     "metadata": {},
     "output_type": "execute_result"
    }
   ],
   "source": [
    "ridge_r.score(X_test, y_test)"
   ]
  },
  {
   "cell_type": "code",
   "execution_count": 48,
   "id": "91d1aa15",
   "metadata": {},
   "outputs": [
    {
     "data": {
      "text/plain": [
       "0.6049829721719783"
      ]
     },
     "execution_count": 48,
     "metadata": {},
     "output_type": "execute_result"
    }
   ],
   "source": [
    "mean_squared_error(y_test, y_pred)"
   ]
  },
  {
   "cell_type": "code",
   "execution_count": 49,
   "id": "40f9e2a4",
   "metadata": {},
   "outputs": [
    {
     "data": {
      "text/plain": [
       "0.5721387089342264"
      ]
     },
     "execution_count": 49,
     "metadata": {},
     "output_type": "execute_result"
    }
   ],
   "source": [
    "mean_absolute_error(y_test,y_pred)"
   ]
  },
  {
   "cell_type": "code",
   "execution_count": 55,
   "id": "47bb586e",
   "metadata": {},
   "outputs": [
    {
     "data": {
      "image/png": "[encoded data removed]",
      "text/plain": [
       "<Figure size 432x288 with 1 Axes>"
      ]
     },
     "execution_count": 55,
     "metadata": {},
     "output_type": "execute_result"
    },
    {
     "data": {
      "image/png": "[encoded data removed]",
      "text/plain": [
       "<Figure size 432x288 with 1 Axes>"
      ]
     },
     "metadata": {
      "needs_background": "light"
     },
     "output_type": "display_data"
    }
   ],
   "source": [
    "# qqplot for the residuals\n",
    "sm.qqplot((y_test - y_pred), line=\"45\")"
   ]
  },
  {
   "cell_type": "code",
   "execution_count": 54,
   "id": "55370eec",
   "metadata": {},
   "outputs": [
    {
     "data": {
      "text/plain": [
       "Jarque_beraResult(statistic=3262.8232183530586, pvalue=0.0)"
      ]
     },
     "execution_count": 54,
     "metadata": {},
     "output_type": "execute_result"
    }
   ],
   "source": [
    "# normality test\n",
    "jarque_bera((y_test-y_pred))"
   ]
  },
  {
   "cell_type": "code",
   "execution_count": 53,
   "id": "a3e443d3",
   "metadata": {},
   "outputs": [
    {
     "data": {
      "text/plain": [
       "<AxesSubplot:xlabel='MedHouseVal', ylabel='Count'>"
      ]
     },
     "execution_count": 53,
     "metadata": {},
     "output_type": "execute_result"
    },
    {
     "data": {
      "image/png": "[encoded data removed]",
      "text/plain": [
       "<Figure size 432x288 with 1 Axes>"
      ]
     },
     "metadata": {
      "needs_background": "light"
     },
     "output_type": "display_data"
    }
   ],
   "source": [
    "# distribution of the residuals\n",
    "sns.histplot((y_test-y_pred), kde=True)"
   ]
  },
  {
   "cell_type": "markdown",
   "id": "9762f842",
   "metadata": {},
   "source": [
    "## Lasso regression - L1 regularization"
   ]
  },
  {
   "cell_type": "markdown",
   "id": "5f392ef4",
   "metadata": {},
   "source": [
    "The loss function is given by:\n",
    "$$J(\\theta) = \\sum_{i=1}^m (\\hat{y}_i - y_i)^2  + \\lambda \\sum_j^p |\\theta_j|$$\n",
    "In comparisson with the Ridge regresion the regularization is done through the absolute value of the coefficients instead of the squared value so the values tends to be nule if needed"
   ]
  },
  {
   "cell_type": "code",
   "execution_count": 56,
   "id": "b71f8475",
   "metadata": {},
   "outputs": [],
   "source": [
    "lasso = Lasso()"
   ]
  },
  {
   "cell_type": "code",
   "execution_count": 57,
   "id": "c8e39538",
   "metadata": {},
   "outputs": [],
   "source": [
    "parameters = {'alpha': [10, 0.001, 0.01, 0.1, 0.5, 0.9, 1], 'fit_intercept':[True, False]}"
   ]
  },
  {
   "cell_type": "code",
   "execution_count": 58,
   "id": "10e11dd9",
   "metadata": {},
   "outputs": [],
   "source": [
    "clf=GridSearchCV(lasso, parameters)"
   ]
  },
  {
   "cell_type": "code",
   "execution_count": 59,
   "id": "232b00b5",
   "metadata": {},
   "outputs": [
    {
     "data": {
      "text/plain": [
       "GridSearchCV(estimator=Lasso(),\n",
       "             param_grid={'alpha': [10, 0.001, 0.01, 0.1, 0.5, 0.9, 1],\n",
       "                         'fit_intercept': [True, False]})"
      ]
     },
     "execution_count": 59,
     "metadata": {},
     "output_type": "execute_result"
    }
   ],
   "source": [
    "clf.fit(X_train, y_train)"
   ]
  },
  {
   "cell_type": "code",
   "execution_count": 60,
   "id": "ee73efc4",
   "metadata": {},
   "outputs": [
    {
     "data": {
      "text/plain": [
       "{'alpha': 0.01, 'fit_intercept': True}"
      ]
     },
     "execution_count": 60,
     "metadata": {},
     "output_type": "execute_result"
    }
   ],
   "source": [
    "clf.best_params_"
   ]
  },
  {
   "cell_type": "code",
   "execution_count": 61,
   "id": "b312835f",
   "metadata": {},
   "outputs": [
    {
     "data": {
      "text/plain": [
       "Lasso(alpha=0.01)"
      ]
     },
     "execution_count": 61,
     "metadata": {},
     "output_type": "execute_result"
    }
   ],
   "source": [
    "lasso = Lasso(alpha=0.01, fit_intercept=True)\n",
    "lasso.fit(X_train, y_train)"
   ]
  },
  {
   "cell_type": "code",
   "execution_count": 62,
   "id": "cf9a3944",
   "metadata": {},
   "outputs": [],
   "source": [
    "y_pred = lasso.predict(X_test)"
   ]
  },
  {
   "cell_type": "code",
   "execution_count": 63,
   "id": "0bbd9b4c",
   "metadata": {},
   "outputs": [
    {
     "data": {
      "text/plain": [
       "array([ 0.94626154,  0.1961314 , -0.35673975,  0.30882388,  0.01378631,\n",
       "       -0.03521285])"
      ]
     },
     "execution_count": 63,
     "metadata": {},
     "output_type": "execute_result"
    }
   ],
   "source": [
    "lasso.coef_"
   ]
  },
  {
   "cell_type": "code",
   "execution_count": 64,
   "id": "8a161a72",
   "metadata": {},
   "outputs": [
    {
     "data": {
      "text/plain": [
       "0.5384038443732608"
      ]
     },
     "execution_count": 64,
     "metadata": {},
     "output_type": "execute_result"
    }
   ],
   "source": [
    "r2_score(y_test, y_pred)"
   ]
  },
  {
   "cell_type": "code",
   "execution_count": 65,
   "id": "18133bbf",
   "metadata": {},
   "outputs": [
    {
     "data": {
      "text/plain": [
       "0.610385931603507"
      ]
     },
     "execution_count": 65,
     "metadata": {},
     "output_type": "execute_result"
    }
   ],
   "source": [
    "mean_squared_error(y_test, y_pred)"
   ]
  },
  {
   "cell_type": "code",
   "execution_count": 66,
   "id": "b6683fe7",
   "metadata": {},
   "outputs": [
    {
     "data": {
      "text/plain": [
       "0.578573402946714"
      ]
     },
     "execution_count": 66,
     "metadata": {},
     "output_type": "execute_result"
    }
   ],
   "source": [
    "mean_absolute_error(y_test, y_pred)"
   ]
  },
  {
   "cell_type": "code",
   "execution_count": 67,
   "id": "caab06bf",
   "metadata": {},
   "outputs": [
    {
     "data": {
      "image/png": "[encoded data removed]",
      "text/plain": [
       "<Figure size 432x288 with 1 Axes>"
      ]
     },
     "execution_count": 67,
     "metadata": {},
     "output_type": "execute_result"
    },
    {
     "data": {
      "image/png": "[encoded data removed]",
      "text/plain": [
       "<Figure size 432x288 with 1 Axes>"
      ]
     },
     "metadata": {
      "needs_background": "light"
     },
     "output_type": "display_data"
    }
   ],
   "source": [
    "sm.qqplot((y_test - y_pred), line=\"45\")"
   ]
  },
  {
   "cell_type": "code",
   "execution_count": 68,
   "id": "c984b6e6",
   "metadata": {},
   "outputs": [
    {
     "data": {
      "text/plain": [
       "Jarque_beraResult(statistic=3092.6821003348696, pvalue=0.0)"
      ]
     },
     "execution_count": 68,
     "metadata": {},
     "output_type": "execute_result"
    }
   ],
   "source": [
    "jarque_bera((y_test-y_pred))"
   ]
  }
 ],
 "metadata": {
  "kernelspec": {
   "display_name": "Python 3 (ipykernel)",
   "language": "python",
   "name": "python3"
  },
  "language_info": {
   "codemirror_mode": {
    "name": "ipython",
    "version": 3
   },
   "file_extension": ".py",
   "mimetype": "text/x-python",
   "name": "python",
   "nbconvert_exporter": "python",
   "pygments_lexer": "ipython3",
   "version": "3.10.1"
  }
 },
 "nbformat": 4,
 "nbformat_minor": 5
}
