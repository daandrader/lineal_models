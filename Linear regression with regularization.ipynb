{
 "cells": [
  {
   "cell_type": "code",
   "execution_count": 186,
   "id": "c23143ac",
   "metadata": {},
   "outputs": [],
   "source": [
    "import pandas as pd\n",
    "import matplotlib.pyplot as plt\n",
    "import seaborn as sns\n",
    "from sklearn.linear_model import LinearRegression, Lasso, Ridge\n",
    "import sklearn.datasets as datasets\n",
    "from sklearn.preprocessing import StandardScaler"
   ]
  },
  {
   "cell_type": "code",
   "execution_count": 189,
   "id": "5571efe3",
   "metadata": {},
   "outputs": [],
   "source": [
    "houses = datasets.fetch_california_housing(as_frame=True)\n",
    "X = houses.data\n",
    "y = houses.target"
   ]
  },
  {
   "cell_type": "code",
   "execution_count": 190,
   "id": "bc0f1f8d",
   "metadata": {
    "scrolled": true
   },
   "outputs": [
    {
     "data": {
      "text/plain": [
       "MedInc        0\n",
       "HouseAge      0\n",
       "AveRooms      0\n",
       "AveBedrms     0\n",
       "Population    0\n",
       "AveOccup      0\n",
       "Latitude      0\n",
       "Longitude     0\n",
       "dtype: int64"
      ]
     },
     "execution_count": 190,
     "metadata": {},
     "output_type": "execute_result"
    }
   ],
   "source": [
    "X.isnull().sum()"
   ]
  },
  {
   "cell_type": "code",
   "execution_count": 191,
   "id": "5d64f854",
   "metadata": {},
   "outputs": [],
   "source": [
    "# removing latitud and longitud from the feature variables since contains geographic \n",
    "# information\n",
    "X = X.drop(columns=['Latitude', 'Longitude'], axis=1)"
   ]
  },
  {
   "cell_type": "code",
   "execution_count": 192,
   "id": "17f5f619",
   "metadata": {},
   "outputs": [],
   "source": [
    "# detecting high correlation among feature variables"
   ]
  },
  {
   "cell_type": "code",
   "execution_count": 193,
   "id": "db3e4b68",
   "metadata": {},
   "outputs": [
    {
     "data": {
      "text/plain": [
       "<AxesSubplot:>"
      ]
     },
     "execution_count": 193,
     "metadata": {},
     "output_type": "execute_result"
    },
    {
     "data": {
      "image/png": "[encoded data removed]",
      "text/plain": [
       "<Figure size 432x288 with 2 Axes>"
      ]
     },
     "metadata": {
      "needs_background": "light"
     },
     "output_type": "display_data"
    }
   ],
   "source": [
    "sns.heatmap(X.corr())"
   ]
  },
  {
   "cell_type": "code",
   "execution_count": 194,
   "id": "1a0eb342",
   "metadata": {},
   "outputs": [
    {
     "data": {
      "text/html": [
       "<div>\n",
       "<style scoped>\n",
       "    .dataframe tbody tr th:only-of-type {\n",
       "        vertical-align: middle;\n",
       "    }\n",
       "\n",
       "    .dataframe tbody tr th {\n",
       "        vertical-align: top;\n",
       "    }\n",
       "\n",
       "    .dataframe thead th {\n",
       "        text-align: right;\n",
       "    }\n",
       "</style>\n",
       "<table border=\"1\" class=\"dataframe\">\n",
       "  <thead>\n",
       "    <tr style=\"text-align: right;\">\n",
       "      <th></th>\n",
       "      <th>feature</th>\n",
       "      <th>VIF</th>\n",
       "    </tr>\n",
       "  </thead>\n",
       "  <tbody>\n",
       "    <tr>\n",
       "      <th>0</th>\n",
       "      <td>MedInc</td>\n",
       "      <td>7.766787</td>\n",
       "    </tr>\n",
       "    <tr>\n",
       "      <th>1</th>\n",
       "      <td>HouseAge</td>\n",
       "      <td>4.309941</td>\n",
       "    </tr>\n",
       "    <tr>\n",
       "      <th>2</th>\n",
       "      <td>AveRooms</td>\n",
       "      <td>41.111592</td>\n",
       "    </tr>\n",
       "    <tr>\n",
       "      <th>3</th>\n",
       "      <td>AveBedrms</td>\n",
       "      <td>34.118257</td>\n",
       "    </tr>\n",
       "    <tr>\n",
       "      <th>4</th>\n",
       "      <td>Population</td>\n",
       "      <td>2.322315</td>\n",
       "    </tr>\n",
       "    <tr>\n",
       "      <th>5</th>\n",
       "      <td>AveOccup</td>\n",
       "      <td>1.094793</td>\n",
       "    </tr>\n",
       "  </tbody>\n",
       "</table>\n",
       "</div>"
      ],
      "text/plain": [
       "      feature        VIF\n",
       "0      MedInc   7.766787\n",
       "1    HouseAge   4.309941\n",
       "2    AveRooms  41.111592\n",
       "3   AveBedrms  34.118257\n",
       "4  Population   2.322315\n",
       "5    AveOccup   1.094793"
      ]
     },
     "execution_count": 194,
     "metadata": {},
     "output_type": "execute_result"
    }
   ],
   "source": [
    "# Detecting multicollineality through the VIF (Variance Inflation Factor)\n",
    "from statsmodels.stats.outliers_influence import variance_inflation_factor\n",
    "vif = pd.DataFrame()\n",
    "vif['feature'] = X.columns\n",
    "vif['VIF'] = [variance_inflation_factor(X.values,i) for i in range(len(X.columns))]\n",
    "vif"
   ]
  },
  {
   "cell_type": "code",
   "execution_count": 195,
   "id": "8864e576",
   "metadata": {},
   "outputs": [],
   "source": [
    "scaler = StandardScaler()"
   ]
  },
  {
   "cell_type": "code",
   "execution_count": 196,
   "id": "536c09af",
   "metadata": {},
   "outputs": [],
   "source": [
    "X =  pd.DataFrame(scaler.fit_transform(X), columns=X.columns )"
   ]
  },
  {
   "cell_type": "code",
   "execution_count": 197,
   "id": "98539e84",
   "metadata": {},
   "outputs": [],
   "source": [
    "X_train, X_test, y_train, y_test = train_test_split(X,y,test_size=0.3, random_state=123)"
   ]
  },
  {
   "cell_type": "markdown",
   "id": "6312a579",
   "metadata": {},
   "source": [
    "## Ridge Regression - L2 regularization"
   ]
  },
  {
   "cell_type": "markdown",
   "id": "91d31205",
   "metadata": {},
   "source": [
    "The loss function is given by:\n",
    "$$J(\\theta) = \\sum_{i=1}^m (\\hat{y}_i - y_i)^2  + \\lambda \\sum_j^p \\theta_j^2$$"
   ]
  },
  {
   "cell_type": "markdown",
   "id": "8a8b3518",
   "metadata": {},
   "source": [
    "### Using grid search"
   ]
  },
  {
   "cell_type": "code",
   "execution_count": 60,
   "id": "b5fb8331",
   "metadata": {},
   "outputs": [],
   "source": [
    "from sklearn.model_selection import GridSearchCV"
   ]
  },
  {
   "cell_type": "code",
   "execution_count": 61,
   "id": "ca74dd61",
   "metadata": {},
   "outputs": [],
   "source": [
    "ridge_r =Ridge()"
   ]
  },
  {
   "cell_type": "code",
   "execution_count": 62,
   "id": "fa1f4592",
   "metadata": {},
   "outputs": [],
   "source": [
    "parameters = {'alpha': [20,15,10, 0.001, 0.01, 0.1, 0.5, 0.9, 1], 'fit_intercept':[False, True]}"
   ]
  },
  {
   "cell_type": "code",
   "execution_count": 63,
   "id": "fd34f9f5",
   "metadata": {},
   "outputs": [],
   "source": [
    "clf=GridSearchCV(ridge_r, parameters)"
   ]
  },
  {
   "cell_type": "code",
   "execution_count": 64,
   "id": "d0fbb483",
   "metadata": {},
   "outputs": [
    {
     "data": {
      "text/plain": [
       "GridSearchCV(estimator=Ridge(),\n",
       "             param_grid={'alpha': [20, 15, 10, 0.001, 0.01, 0.1, 0.5, 0.9, 1],\n",
       "                         'fit_intercept': [False, True]})"
      ]
     },
     "execution_count": 64,
     "metadata": {},
     "output_type": "execute_result"
    }
   ],
   "source": [
    "clf.fit(X_train, y_train)"
   ]
  },
  {
   "cell_type": "code",
   "execution_count": 65,
   "id": "30ca586d",
   "metadata": {},
   "outputs": [
    {
     "data": {
      "text/plain": [
       "{'alpha': 20, 'fit_intercept': True}"
      ]
     },
     "execution_count": 65,
     "metadata": {},
     "output_type": "execute_result"
    }
   ],
   "source": [
    "clf.best_params_"
   ]
  },
  {
   "cell_type": "code",
   "execution_count": 66,
   "id": "45e5fbcf",
   "metadata": {},
   "outputs": [
    {
     "data": {
      "text/plain": [
       "Ridge(alpha=10)"
      ]
     },
     "execution_count": 66,
     "metadata": {},
     "output_type": "execute_result"
    }
   ],
   "source": [
    "ridge_r =Ridge(alpha=10, fit_intercept=True)\n",
    "ridge_r.fit(X_train, y_train)"
   ]
  },
  {
   "cell_type": "code",
   "execution_count": 67,
   "id": "87a7b463",
   "metadata": {},
   "outputs": [],
   "source": [
    "y_pred = ridge_r.predict(X_test)"
   ]
  },
  {
   "cell_type": "code",
   "execution_count": 68,
   "id": "a1d7e837",
   "metadata": {},
   "outputs": [
    {
     "data": {
      "text/plain": [
       "array([ 1.01670983,  0.20605571, -0.51138266,  0.45214019,  0.02571464,\n",
       "       -0.04589416])"
      ]
     },
     "execution_count": 68,
     "metadata": {},
     "output_type": "execute_result"
    }
   ],
   "source": [
    "ridge_r.coef_"
   ]
  },
  {
   "cell_type": "code",
   "execution_count": 69,
   "id": "98a637f7",
   "metadata": {},
   "outputs": [],
   "source": [
    "from sklearn.metrics import r2_score, mean_squared_error, mean_absolute_error\n",
    "from scipy.stats import jarque_bera"
   ]
  },
  {
   "cell_type": "code",
   "execution_count": 70,
   "id": "6b67612b",
   "metadata": {},
   "outputs": [
    {
     "data": {
      "text/plain": [
       "0.542532008547304"
      ]
     },
     "execution_count": 70,
     "metadata": {},
     "output_type": "execute_result"
    }
   ],
   "source": [
    "r2_score(y_test, y_pred)"
   ]
  },
  {
   "cell_type": "code",
   "execution_count": 71,
   "id": "a4d41c34",
   "metadata": {},
   "outputs": [
    {
     "data": {
      "text/plain": [
       "array([2.24322344, 1.66943164, 1.94055403, ..., 2.09902199, 2.6252577 ,\n",
       "       2.35234192])"
      ]
     },
     "execution_count": 71,
     "metadata": {},
     "output_type": "execute_result"
    }
   ],
   "source": [
    "y_pred"
   ]
  },
  {
   "cell_type": "code",
   "execution_count": 72,
   "id": "c3f1a9ca",
   "metadata": {},
   "outputs": [
    {
     "data": {
      "text/plain": [
       "19121    1.516\n",
       "20019    0.992\n",
       "15104    1.345\n",
       "3720     2.317\n",
       "8938     4.629\n",
       "         ...  \n",
       "5462     2.850\n",
       "1859     1.224\n",
       "10867    1.167\n",
       "4693     4.869\n",
       "3521     2.362\n",
       "Name: MedHouseVal, Length: 6192, dtype: float64"
      ]
     },
     "execution_count": 72,
     "metadata": {},
     "output_type": "execute_result"
    }
   ],
   "source": [
    "y_test"
   ]
  },
  {
   "cell_type": "code",
   "execution_count": 73,
   "id": "f135d1f5",
   "metadata": {},
   "outputs": [
    {
     "data": {
      "text/plain": [
       "0.542532008547304"
      ]
     },
     "execution_count": 73,
     "metadata": {},
     "output_type": "execute_result"
    }
   ],
   "source": [
    "ridge_r.score(X_test, y_test)"
   ]
  },
  {
   "cell_type": "code",
   "execution_count": 74,
   "id": "91d1aa15",
   "metadata": {},
   "outputs": [
    {
     "data": {
      "text/plain": [
       "0.6049271050849797"
      ]
     },
     "execution_count": 74,
     "metadata": {},
     "output_type": "execute_result"
    }
   ],
   "source": [
    "mean_squared_error(y_test, y_pred)"
   ]
  },
  {
   "cell_type": "code",
   "execution_count": 75,
   "id": "40f9e2a4",
   "metadata": {},
   "outputs": [
    {
     "data": {
      "text/plain": [
       "0.5719040699635674"
      ]
     },
     "execution_count": 75,
     "metadata": {},
     "output_type": "execute_result"
    }
   ],
   "source": [
    "mean_absolute_error(y_test,y_pred)"
   ]
  },
  {
   "cell_type": "code",
   "execution_count": 76,
   "id": "47bb586e",
   "metadata": {},
   "outputs": [
    {
     "data": {
      "image/png": "[encoded data removed]",
      "text/plain": [
       "<Figure size 432x288 with 1 Axes>"
      ]
     },
     "execution_count": 76,
     "metadata": {},
     "output_type": "execute_result"
    },
    {
     "data": {
      "image/png": "[encoded data removed]",
      "text/plain": [
       "<Figure size 432x288 with 1 Axes>"
      ]
     },
     "metadata": {
      "needs_background": "light"
     },
     "output_type": "display_data"
    }
   ],
   "source": [
    "sm.qqplot((y_test - y_pred), line=\"45\")"
   ]
  },
  {
   "cell_type": "code",
   "execution_count": 77,
   "id": "55370eec",
   "metadata": {},
   "outputs": [
    {
     "data": {
      "text/plain": [
       "Jarque_beraResult(statistic=3273.7409880540536, pvalue=0.0)"
      ]
     },
     "execution_count": 77,
     "metadata": {},
     "output_type": "execute_result"
    }
   ],
   "source": [
    "jarque_bera((y_test-y_pred))"
   ]
  },
  {
   "cell_type": "code",
   "execution_count": 78,
   "id": "a3e443d3",
   "metadata": {},
   "outputs": [
    {
     "data": {
      "text/plain": [
       "<seaborn.axisgrid.FacetGrid at 0x7f4de1a8e7a0>"
      ]
     },
     "execution_count": 78,
     "metadata": {},
     "output_type": "execute_result"
    },
    {
     "data": {
      "image/png": "[encoded data removed]",
      "text/plain": [
       "<Figure size 360x360 with 1 Axes>"
      ]
     },
     "metadata": {
      "needs_background": "light"
     },
     "output_type": "display_data"
    }
   ],
   "source": [
    "sns.displot((y_test-y_pred))"
   ]
  },
  {
   "cell_type": "markdown",
   "id": "9762f842",
   "metadata": {},
   "source": [
    "## Lasso regression - L1 regularization"
   ]
  },
  {
   "cell_type": "markdown",
   "id": "5f392ef4",
   "metadata": {},
   "source": [
    "The loss function is given by:\n",
    "$$J(\\theta) = \\sum_{i=1}^m (\\hat{y}_i - y_i)^2  + \\lambda \\sum_j^p |\\theta_j|$$"
   ]
  },
  {
   "cell_type": "code",
   "execution_count": 151,
   "id": "b71f8475",
   "metadata": {},
   "outputs": [],
   "source": [
    "lasso = Lasso()"
   ]
  },
  {
   "cell_type": "code",
   "execution_count": 152,
   "id": "c8e39538",
   "metadata": {},
   "outputs": [],
   "source": [
    "parameters = {'alpha': [10, 0.001, 0.01, 0.1, 0.5, 0.9, 1], 'fit_intercept':[True, False]}"
   ]
  },
  {
   "cell_type": "code",
   "execution_count": 153,
   "id": "10e11dd9",
   "metadata": {},
   "outputs": [],
   "source": [
    "clf=GridSearchCV(lasso, parameters)"
   ]
  },
  {
   "cell_type": "code",
   "execution_count": 154,
   "id": "232b00b5",
   "metadata": {},
   "outputs": [
    {
     "data": {
      "text/plain": [
       "GridSearchCV(estimator=Lasso(),\n",
       "             param_grid={'alpha': [10, 0.001, 0.01, 0.1, 0.5, 0.9, 1],\n",
       "                         'fit_intercept': [True, False]})"
      ]
     },
     "execution_count": 154,
     "metadata": {},
     "output_type": "execute_result"
    }
   ],
   "source": [
    "clf.fit(X_train, y_train)"
   ]
  },
  {
   "cell_type": "code",
   "execution_count": 155,
   "id": "ee73efc4",
   "metadata": {},
   "outputs": [
    {
     "data": {
      "text/plain": [
       "{'alpha': 0.01, 'fit_intercept': True}"
      ]
     },
     "execution_count": 155,
     "metadata": {},
     "output_type": "execute_result"
    }
   ],
   "source": [
    "clf.best_params_"
   ]
  },
  {
   "cell_type": "code",
   "execution_count": 156,
   "id": "b312835f",
   "metadata": {},
   "outputs": [
    {
     "data": {
      "text/plain": [
       "Lasso(alpha=0.01)"
      ]
     },
     "execution_count": 156,
     "metadata": {},
     "output_type": "execute_result"
    }
   ],
   "source": [
    "lasso = Lasso(alpha=0.01, fit_intercept=True)\n",
    "lasso.fit(X_train, y_train)"
   ]
  },
  {
   "cell_type": "code",
   "execution_count": 157,
   "id": "cf9a3944",
   "metadata": {},
   "outputs": [],
   "source": [
    "y_pred = lasso.predict(X_test)"
   ]
  },
  {
   "cell_type": "code",
   "execution_count": 158,
   "id": "0bbd9b4c",
   "metadata": {},
   "outputs": [
    {
     "data": {
      "text/plain": [
       "array([ 0.94626154,  0.1961314 , -0.35673975,  0.30882388,  0.01378631,\n",
       "       -0.03521285])"
      ]
     },
     "execution_count": 158,
     "metadata": {},
     "output_type": "execute_result"
    }
   ],
   "source": [
    "lasso.coef_"
   ]
  },
  {
   "cell_type": "code",
   "execution_count": 159,
   "id": "8a161a72",
   "metadata": {},
   "outputs": [
    {
     "data": {
      "text/plain": [
       "0.5384038443732608"
      ]
     },
     "execution_count": 159,
     "metadata": {},
     "output_type": "execute_result"
    }
   ],
   "source": [
    "r2_score(y_test, y_pred)"
   ]
  },
  {
   "cell_type": "code",
   "execution_count": 163,
   "id": "18133bbf",
   "metadata": {},
   "outputs": [
    {
     "data": {
      "text/plain": [
       "0.610385931603507"
      ]
     },
     "execution_count": 163,
     "metadata": {},
     "output_type": "execute_result"
    }
   ],
   "source": [
    "mean_squared_error(y_test, y_pred)"
   ]
  },
  {
   "cell_type": "code",
   "execution_count": 164,
   "id": "b6683fe7",
   "metadata": {},
   "outputs": [
    {
     "data": {
      "text/plain": [
       "0.578573402946714"
      ]
     },
     "execution_count": 164,
     "metadata": {},
     "output_type": "execute_result"
    }
   ],
   "source": [
    "mean_absolute_error(y_test, y_pred)"
   ]
  },
  {
   "cell_type": "code",
   "execution_count": 161,
   "id": "caab06bf",
   "metadata": {},
   "outputs": [
    {
     "data": {
      "image/png": "[encoded data removed]",
      "text/plain": [
       "<Figure size 432x288 with 1 Axes>"
      ]
     },
     "execution_count": 161,
     "metadata": {},
     "output_type": "execute_result"
    },
    {
     "data": {
      "image/png": "[encoded data removed]",
      "text/plain": [
       "<Figure size 432x288 with 1 Axes>"
      ]
     },
     "metadata": {
      "needs_background": "light"
     },
     "output_type": "display_data"
    }
   ],
   "source": [
    "sm.qqplot((y_test - y_pred), line=\"45\")"
   ]
  },
  {
   "cell_type": "code",
   "execution_count": 143,
   "id": "c984b6e6",
   "metadata": {},
   "outputs": [
    {
     "data": {
      "text/plain": [
       "Jarque_beraResult(statistic=2874.0095192352032, pvalue=0.0)"
      ]
     },
     "execution_count": 143,
     "metadata": {},
     "output_type": "execute_result"
    }
   ],
   "source": [
    "jarque_bera((y_test-y_pred))"
   ]
  },
  {
   "cell_type": "raw",
   "id": "6d063f8d",
   "metadata": {},
   "source": []
  },
  {
   "cell_type": "code",
   "execution_count": 128,
   "id": "e0a574d2",
   "metadata": {},
   "outputs": [
    {
     "data": {
      "text/html": [
       "<div>\n",
       "<style scoped>\n",
       "    .dataframe tbody tr th:only-of-type {\n",
       "        vertical-align: middle;\n",
       "    }\n",
       "\n",
       "    .dataframe tbody tr th {\n",
       "        vertical-align: top;\n",
       "    }\n",
       "\n",
       "    .dataframe thead th {\n",
       "        text-align: right;\n",
       "    }\n",
       "</style>\n",
       "<table border=\"1\" class=\"dataframe\">\n",
       "  <thead>\n",
       "    <tr style=\"text-align: right;\">\n",
       "      <th></th>\n",
       "      <th>MedInc</th>\n",
       "      <th>HouseAge</th>\n",
       "      <th>AveRooms</th>\n",
       "      <th>AveBedrms</th>\n",
       "      <th>Population</th>\n",
       "      <th>AveOccup</th>\n",
       "    </tr>\n",
       "  </thead>\n",
       "  <tbody>\n",
       "    <tr>\n",
       "      <th>12364</th>\n",
       "      <td>0.042178</td>\n",
       "      <td>-1.798890</td>\n",
       "      <td>0.179534</td>\n",
       "      <td>0.030462</td>\n",
       "      <td>1.399218</td>\n",
       "      <td>0.054364</td>\n",
       "    </tr>\n",
       "    <tr>\n",
       "      <th>12271</th>\n",
       "      <td>-0.181690</td>\n",
       "      <td>-0.607019</td>\n",
       "      <td>0.107344</td>\n",
       "      <td>-0.100051</td>\n",
       "      <td>0.660986</td>\n",
       "      <td>-0.037870</td>\n",
       "    </tr>\n",
       "    <tr>\n",
       "      <th>19605</th>\n",
       "      <td>-0.998997</td>\n",
       "      <td>0.267020</td>\n",
       "      <td>0.015847</td>\n",
       "      <td>0.100936</td>\n",
       "      <td>-0.707747</td>\n",
       "      <td>0.051636</td>\n",
       "    </tr>\n",
       "    <tr>\n",
       "      <th>10600</th>\n",
       "      <td>1.601573</td>\n",
       "      <td>-1.639974</td>\n",
       "      <td>0.221280</td>\n",
       "      <td>-0.148142</td>\n",
       "      <td>-0.497580</td>\n",
       "      <td>-0.051547</td>\n",
       "    </tr>\n",
       "    <tr>\n",
       "      <th>45</th>\n",
       "      <td>-0.628427</td>\n",
       "      <td>1.856182</td>\n",
       "      <td>-0.442147</td>\n",
       "      <td>0.005911</td>\n",
       "      <td>-0.624740</td>\n",
       "      <td>-0.114683</td>\n",
       "    </tr>\n",
       "    <tr>\n",
       "      <th>...</th>\n",
       "      <td>...</td>\n",
       "      <td>...</td>\n",
       "      <td>...</td>\n",
       "      <td>...</td>\n",
       "      <td>...</td>\n",
       "      <td>...</td>\n",
       "    </tr>\n",
       "    <tr>\n",
       "      <th>7763</th>\n",
       "      <td>-0.121999</td>\n",
       "      <td>0.584852</td>\n",
       "      <td>0.062898</td>\n",
       "      <td>0.039480</td>\n",
       "      <td>-0.826076</td>\n",
       "      <td>0.067263</td>\n",
       "    </tr>\n",
       "    <tr>\n",
       "      <th>15377</th>\n",
       "      <td>0.351846</td>\n",
       "      <td>-1.163225</td>\n",
       "      <td>0.237535</td>\n",
       "      <td>-0.166076</td>\n",
       "      <td>0.892346</td>\n",
       "      <td>0.005433</td>\n",
       "    </tr>\n",
       "    <tr>\n",
       "      <th>17730</th>\n",
       "      <td>0.926388</td>\n",
       "      <td>-1.878348</td>\n",
       "      <td>0.213973</td>\n",
       "      <td>-0.137395</td>\n",
       "      <td>0.891463</td>\n",
       "      <td>0.040718</td>\n",
       "    </tr>\n",
       "    <tr>\n",
       "      <th>15725</th>\n",
       "      <td>0.002279</td>\n",
       "      <td>1.220517</td>\n",
       "      <td>-0.278781</td>\n",
       "      <td>-0.152216</td>\n",
       "      <td>-0.763379</td>\n",
       "      <td>-0.129966</td>\n",
       "    </tr>\n",
       "    <tr>\n",
       "      <th>19966</th>\n",
       "      <td>-0.713279</td>\n",
       "      <td>-0.686477</td>\n",
       "      <td>0.025213</td>\n",
       "      <td>0.044611</td>\n",
       "      <td>-0.162903</td>\n",
       "      <td>0.047703</td>\n",
       "    </tr>\n",
       "  </tbody>\n",
       "</table>\n",
       "<p>14448 rows × 6 columns</p>\n",
       "</div>"
      ],
      "text/plain": [
       "         MedInc  HouseAge  AveRooms  AveBedrms  Population  AveOccup\n",
       "12364  0.042178 -1.798890  0.179534   0.030462    1.399218  0.054364\n",
       "12271 -0.181690 -0.607019  0.107344  -0.100051    0.660986 -0.037870\n",
       "19605 -0.998997  0.267020  0.015847   0.100936   -0.707747  0.051636\n",
       "10600  1.601573 -1.639974  0.221280  -0.148142   -0.497580 -0.051547\n",
       "45    -0.628427  1.856182 -0.442147   0.005911   -0.624740 -0.114683\n",
       "...         ...       ...       ...        ...         ...       ...\n",
       "7763  -0.121999  0.584852  0.062898   0.039480   -0.826076  0.067263\n",
       "15377  0.351846 -1.163225  0.237535  -0.166076    0.892346  0.005433\n",
       "17730  0.926388 -1.878348  0.213973  -0.137395    0.891463  0.040718\n",
       "15725  0.002279  1.220517 -0.278781  -0.152216   -0.763379 -0.129966\n",
       "19966 -0.713279 -0.686477  0.025213   0.044611   -0.162903  0.047703\n",
       "\n",
       "[14448 rows x 6 columns]"
      ]
     },
     "execution_count": 128,
     "metadata": {},
     "output_type": "execute_result"
    }
   ],
   "source": [
    "X_train"
   ]
  },
  {
   "cell_type": "markdown",
   "id": "c83dca48",
   "metadata": {},
   "source": [
    "## Linear Regression"
   ]
  },
  {
   "cell_type": "code",
   "execution_count": 144,
   "id": "bc5fcd90",
   "metadata": {},
   "outputs": [],
   "source": [
    "lr = LinearRegression()"
   ]
  },
  {
   "cell_type": "code",
   "execution_count": 145,
   "id": "fe68a06f",
   "metadata": {},
   "outputs": [
    {
     "data": {
      "text/plain": [
       "LinearRegression()"
      ]
     },
     "execution_count": 145,
     "metadata": {},
     "output_type": "execute_result"
    }
   ],
   "source": [
    "lr.fit(X_train, y_train)"
   ]
  },
  {
   "cell_type": "code",
   "execution_count": 146,
   "id": "32648169",
   "metadata": {},
   "outputs": [],
   "source": [
    "y_pred = lr.predict(X_test)"
   ]
  },
  {
   "cell_type": "code",
   "execution_count": 147,
   "id": "c483a50f",
   "metadata": {},
   "outputs": [
    {
     "data": {
      "text/plain": [
       "0.5425656320013884"
      ]
     },
     "execution_count": 147,
     "metadata": {},
     "output_type": "execute_result"
    }
   ],
   "source": [
    "r2_score(y_test, y_pred)"
   ]
  },
  {
   "cell_type": "code",
   "execution_count": 148,
   "id": "8ce1b01a",
   "metadata": {},
   "outputs": [
    {
     "data": {
      "text/plain": [
       "0.6048826435289314"
      ]
     },
     "execution_count": 148,
     "metadata": {},
     "output_type": "execute_result"
    }
   ],
   "source": [
    "mean_squared_error(y_test, y_pred)"
   ]
  },
  {
   "cell_type": "code",
   "execution_count": 149,
   "id": "60e34a67",
   "metadata": {},
   "outputs": [
    {
     "data": {
      "text/plain": [
       "(6192,)"
      ]
     },
     "execution_count": 149,
     "metadata": {},
     "output_type": "execute_result"
    }
   ],
   "source": [
    "y_test.shape"
   ]
  },
  {
   "cell_type": "code",
   "execution_count": 150,
   "id": "301f54b7",
   "metadata": {},
   "outputs": [
    {
     "data": {
      "text/plain": [
       "(14448,)"
      ]
     },
     "execution_count": 150,
     "metadata": {},
     "output_type": "execute_result"
    }
   ],
   "source": [
    "y_train.shape"
   ]
  },
  {
   "cell_type": "code",
   "execution_count": 162,
   "id": "9caa093e",
   "metadata": {},
   "outputs": [
    {
     "data": {
      "text/plain": [
       "19121    1.516\n",
       "20019    0.992\n",
       "15104    1.345\n",
       "3720     2.317\n",
       "8938     4.629\n",
       "         ...  \n",
       "5462     2.850\n",
       "1859     1.224\n",
       "10867    1.167\n",
       "4693     4.869\n",
       "3521     2.362\n",
       "Name: MedHouseVal, Length: 6192, dtype: float64"
      ]
     },
     "execution_count": 162,
     "metadata": {},
     "output_type": "execute_result"
    }
   ],
   "source": [
    "y_test"
   ]
  }
 ],
 "metadata": {
  "kernelspec": {
   "display_name": "Python 3 (ipykernel)",
   "language": "python",
   "name": "python3"
  },
  "language_info": {
   "codemirror_mode": {
    "name": "ipython",
    "version": 3
   },
   "file_extension": ".py",
   "mimetype": "text/x-python",
   "name": "python",
   "nbconvert_exporter": "python",
   "pygments_lexer": "ipython3",
   "version": "3.10.1"
  }
 },
 "nbformat": 4,
 "nbformat_minor": 5
}
